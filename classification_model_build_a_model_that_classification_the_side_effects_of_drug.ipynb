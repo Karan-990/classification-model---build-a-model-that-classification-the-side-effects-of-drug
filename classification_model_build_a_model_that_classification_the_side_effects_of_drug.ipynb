{
  "nbformat": 4,
  "nbformat_minor": 0,
  "metadata": {
    "colab": {
      "provenance": [],
      "authorship_tag": "ABX9TyMTijazDTmrJvRNVgEpva9u",
      "include_colab_link": true
    },
    "kernelspec": {
      "name": "python3",
      "display_name": "Python 3"
    },
    "language_info": {
      "name": "python"
    }
  },
  "cells": [
    {
      "cell_type": "markdown",
      "metadata": {
        "id": "view-in-github",
        "colab_type": "text"
      },
      "source": [
        "<a href=\"https://colab.research.google.com/github/Karan-990/classification-model---build-a-model-that-classification-the-side-effects-of-drug/blob/main/classification_model_build_a_model_that_classification_the_side_effects_of_drug.ipynb\" target=\"_parent\"><img src=\"https://colab.research.google.com/assets/colab-badge.svg\" alt=\"Open In Colab\"/></a>"
      ]
    },
    {
      "cell_type": "code",
      "execution_count": null,
      "metadata": {
        "id": "HVKZm6OnkhIw"
      },
      "outputs": [],
      "source": [
        "import numpy as np\n",
        "import pandas as pd\n",
        "import matplotlib.pyplot as plt\n",
        "import seaborn as sns\n",
        "from sklearn.model_selection import train_test_split\n",
        "from sklearn import metrics"
      ]
    },
    {
      "cell_type": "code",
      "source": [
        "#Accuracy and additional metrics (precision, recall, F1-score) are calculated using the function calculate_additional_metrics\n",
        "def calculate_additional_metrics(model_name, y_true, y_pred):\n",
        "    precision = metrics.precision_score(y_true, y_pred,average='weighted')\n",
        "    recall = metrics.recall_score(y_true, y_pred,average='weighted')\n",
        "    f1_score = metrics.f1_score(y_true, y_pred,average='weighted')\n",
        "\n",
        "    print(f\"{model_name} - Additional Metrics:\")\n",
        "    print(f\"Precision: {precision}\")\n",
        "    print(f\"Recall: {recall}\")\n",
        "    print(f\"F1-Score: {f1_score}\\n\")"
      ],
      "metadata": {
        "id": "zxxIyxjSkx4U"
      },
      "execution_count": null,
      "outputs": []
    },
    {
      "cell_type": "code",
      "source": [
        "ds=pd.read_csv(\"/content/drug200.csv\")"
      ],
      "metadata": {
        "id": "zJ6k_ku0k_k8"
      },
      "execution_count": null,
      "outputs": []
    },
    {
      "cell_type": "code",
      "source": [
        "print(\"Description:\\n\",ds.describe())"
      ],
      "metadata": {
        "colab": {
          "base_uri": "https://localhost:8080/"
        },
        "id": "0EpVlqo3lq0E",
        "outputId": "f49bf9ee-e4b0-41e9-8956-b3b76158737d"
      },
      "execution_count": null,
      "outputs": [
        {
          "output_type": "stream",
          "name": "stdout",
          "text": [
            "Description:\n",
            "               Age     Na_to_K\n",
            "count  200.000000  200.000000\n",
            "mean    44.315000   16.084485\n",
            "std     16.544315    7.223956\n",
            "min     15.000000    6.269000\n",
            "25%     31.000000   10.445500\n",
            "50%     45.000000   13.936500\n",
            "75%     58.000000   19.380000\n",
            "max     74.000000   38.247000\n"
          ]
        }
      ]
    },
    {
      "cell_type": "code",
      "source": [
        "print(\"null values:\\n\",ds.isnull().sum())"
      ],
      "metadata": {
        "colab": {
          "base_uri": "https://localhost:8080/"
        },
        "id": "ZRZQTonQmrbz",
        "outputId": "3ca3c8b2-3347-4ff1-c891-e4b8dea315c3"
      },
      "execution_count": null,
      "outputs": [
        {
          "output_type": "stream",
          "name": "stdout",
          "text": [
            "null values:\n",
            " Age            0\n",
            "Sex            0\n",
            "BP             0\n",
            "Cholesterol    0\n",
            "Na_to_K        0\n",
            "Drug           0\n",
            "dtype: int64\n"
          ]
        }
      ]
    },
    {
      "cell_type": "code",
      "source": [
        "print(\"data:\\n\",ds)"
      ],
      "metadata": {
        "colab": {
          "base_uri": "https://localhost:8080/"
        },
        "id": "iOpZEuLzmwc8",
        "outputId": "9c54d62b-26a4-4030-99e2-e5a0ef7f75fb"
      },
      "execution_count": null,
      "outputs": [
        {
          "output_type": "stream",
          "name": "stdout",
          "text": [
            "data:\n",
            "      Age Sex      BP Cholesterol  Na_to_K   Drug\n",
            "0     23   F    HIGH        HIGH   25.355  drugY\n",
            "1     47   M     LOW        HIGH   13.093  drugC\n",
            "2     47   M     LOW        HIGH   10.114  drugC\n",
            "3     28   F  NORMAL        HIGH    7.798  drugX\n",
            "4     61   F     LOW        HIGH   18.043  drugY\n",
            "..   ...  ..     ...         ...      ...    ...\n",
            "195   56   F     LOW        HIGH   11.567  drugC\n",
            "196   16   M     LOW        HIGH   12.006  drugC\n",
            "197   52   M  NORMAL        HIGH    9.894  drugX\n",
            "198   23   M  NORMAL      NORMAL   14.020  drugX\n",
            "199   40   F     LOW      NORMAL   11.349  drugX\n",
            "\n",
            "[200 rows x 6 columns]\n"
          ]
        }
      ]
    },
    {
      "cell_type": "code",
      "source": [
        "#Label encoding for categorical variables\n",
        "from sklearn import preprocessing\n",
        "sex_encoding=preprocessing.LabelEncoder()\n",
        "ds['Sex'] = sex_encoding.fit_transform(ds['Sex'])\n",
        "BP_encoding=preprocessing.LabelEncoder()\n",
        "ds['BP']=BP_encoding.fit_transform(ds['BP'])\n",
        "Cholesterol_encoding=preprocessing.LabelEncoder()\n",
        "ds['Cholesterol']=Cholesterol_encoding.fit_transform(ds['Cholesterol'])\n",
        "#display the preprocessed dataset\n",
        "print(ds)"
      ],
      "metadata": {
        "colab": {
          "base_uri": "https://localhost:8080/"
        },
        "id": "oLxJY_Tjm5ms",
        "outputId": "15d587f4-1b47-49ae-fc7d-f224f84b9ef8"
      },
      "execution_count": null,
      "outputs": [
        {
          "output_type": "stream",
          "name": "stdout",
          "text": [
            "     Age  Sex  BP  Cholesterol  Na_to_K   Drug\n",
            "0     23    0   0            0   25.355  drugY\n",
            "1     47    1   1            0   13.093  drugC\n",
            "2     47    1   1            0   10.114  drugC\n",
            "3     28    0   2            0    7.798  drugX\n",
            "4     61    0   1            0   18.043  drugY\n",
            "..   ...  ...  ..          ...      ...    ...\n",
            "195   56    0   1            0   11.567  drugC\n",
            "196   16    1   1            0   12.006  drugC\n",
            "197   52    1   2            0    9.894  drugX\n",
            "198   23    1   2            1   14.020  drugX\n",
            "199   40    0   1            1   11.349  drugX\n",
            "\n",
            "[200 rows x 6 columns]\n"
          ]
        }
      ]
    },
    {
      "cell_type": "code",
      "source": [
        "#Split the data into features(x) and target variable(y)\n",
        "xcols=[col for col in ds.columns if col not in ['Drug']]\n",
        "x=ds[xcols]\n",
        "y=ds['Drug']"
      ],
      "metadata": {
        "id": "smUL_RAwm-sM"
      },
      "execution_count": null,
      "outputs": []
    },
    {
      "cell_type": "code",
      "source": [
        "#Split the data into traing data and testing data\n",
        "x_train,x_test,y_train,y_test=train_test_split(x,y,test_size=0.3,random_state=3)"
      ],
      "metadata": {
        "id": "M_RbUDq6nBuk"
      },
      "execution_count": null,
      "outputs": []
    },
    {
      "cell_type": "code",
      "source": [
        "#Train Logistic Regression Model\n",
        "from sklearn.linear_model import LogisticRegression\n",
        "logireg= LogisticRegression()\n",
        "logireg.fit(x_train, y_train)\n",
        "lr_prediction = logireg.predict(x_test)\n",
        "print(\"LogisticRegression's Accuracy: \", metrics.accuracy_score(y_test, lr_prediction))\n",
        "calculate_additional_metrics('Logistic Regression', y_test, lr_prediction)"
      ],
      "metadata": {
        "colab": {
          "base_uri": "https://localhost:8080/"
        },
        "id": "A8X6W-7onGrs",
        "outputId": "dfc530b8-f117-4e56-817d-74e053335e82"
      },
      "execution_count": null,
      "outputs": [
        {
          "output_type": "stream",
          "name": "stdout",
          "text": [
            "LogisticRegression's Accuracy:  0.8833333333333333\n",
            "Logistic Regression - Additional Metrics:\n",
            "Precision: 0.8931222943722943\n",
            "Recall: 0.8833333333333333\n",
            "F1-Score: 0.8807004429678849\n",
            "\n"
          ]
        },
        {
          "output_type": "stream",
          "name": "stderr",
          "text": [
            "/usr/local/lib/python3.11/dist-packages/sklearn/linear_model/_logistic.py:465: ConvergenceWarning: lbfgs failed to converge (status=1):\n",
            "STOP: TOTAL NO. of ITERATIONS REACHED LIMIT.\n",
            "\n",
            "Increase the number of iterations (max_iter) or scale the data as shown in:\n",
            "    https://scikit-learn.org/stable/modules/preprocessing.html\n",
            "Please also refer to the documentation for alternative solver options:\n",
            "    https://scikit-learn.org/stable/modules/linear_model.html#logistic-regression\n",
            "  n_iter_i = _check_optimize_result(\n"
          ]
        }
      ]
    },
    {
      "cell_type": "code",
      "source": [
        "#Train Decision Tree classifier Model\n",
        "from sklearn.tree import DecisionTreeClassifier\n",
        "dectree=DecisionTreeClassifier()\n",
        "dectree.fit(x_train,y_train)\n",
        "dr_prediction=dectree.predict(x_test)\n",
        "print(\"DecisionTrees's Accuracy: \", metrics.accuracy_score(y_test, dr_prediction))\n",
        "calculate_additional_metrics('Decision Tree', y_test, dr_prediction)"
      ],
      "metadata": {
        "colab": {
          "base_uri": "https://localhost:8080/"
        },
        "id": "cUrTZumAnOE7",
        "outputId": "26157812-9dbe-4747-939b-933cacff0722"
      },
      "execution_count": null,
      "outputs": [
        {
          "output_type": "stream",
          "name": "stdout",
          "text": [
            "DecisionTrees's Accuracy:  0.9833333333333333\n",
            "Decision Tree - Additional Metrics:\n",
            "Precision: 0.9840579710144927\n",
            "Recall: 0.9833333333333333\n",
            "F1-Score: 0.9833152664859981\n",
            "\n"
          ]
        }
      ]
    },
    {
      "cell_type": "code",
      "source": [
        "#Training Random Forest Model\n",
        "from sklearn.ensemble import RandomForestClassifier\n",
        "ranforest = RandomForestClassifier()\n",
        "ranforest.fit(x_train, y_train)\n",
        "rf_prediction= ranforest.predict(x_test)\n",
        "print(\"Random Forest's Accuracy:\", metrics.accuracy_score(y_test, rf_prediction))\n",
        "calculate_additional_metrics('Random Forest', y_test, rf_prediction)"
      ],
      "metadata": {
        "colab": {
          "base_uri": "https://localhost:8080/"
        },
        "id": "FviLNpJjnfMU",
        "outputId": "cb5c5a06-7b75-4ccd-c4dc-0ec750701068"
      },
      "execution_count": null,
      "outputs": [
        {
          "output_type": "stream",
          "name": "stdout",
          "text": [
            "Random Forest's Accuracy: 0.9833333333333333\n",
            "Random Forest - Additional Metrics:\n",
            "Precision: 0.9840579710144927\n",
            "Recall: 0.9833333333333333\n",
            "F1-Score: 0.9833152664859981\n",
            "\n"
          ]
        }
      ]
    },
    {
      "cell_type": "code",
      "source": [
        "#Training KNN Model\n",
        "from sklearn.neighbors import KNeighborsClassifier\n",
        "knn = KNeighborsClassifier()\n",
        "knn.fit(x_train, y_train)\n",
        "knn_prediction= knn.predict(x_test)\n",
        "print(\"KNN's Accuracy:\", metrics.accuracy_score(y_test, knn_prediction))\n",
        "calculate_additional_metrics('KNN', y_test, knn_prediction)"
      ],
      "metadata": {
        "colab": {
          "base_uri": "https://localhost:8080/"
        },
        "id": "1XIJRloSn3pD",
        "outputId": "8f3e1f82-6891-456b-f87d-62afcec9e002"
      },
      "execution_count": null,
      "outputs": [
        {
          "output_type": "stream",
          "name": "stdout",
          "text": [
            "KNN's Accuracy: 0.6333333333333333\n",
            "KNN - Additional Metrics:\n",
            "Precision: 0.7005698005698006\n",
            "Recall: 0.6333333333333333\n",
            "F1-Score: 0.6444670280036134\n",
            "\n"
          ]
        }
      ]
    },
    {
      "cell_type": "code",
      "source": [
        "#Training SVM model\n",
        "from sklearn.svm import SVC\n",
        "svm= SVC()\n",
        "svm.fit(x_train, y_train)\n",
        "svm_prediction= svm.predict(x_test)\n",
        "print(\"SVM's Accuracy:\", metrics.accuracy_score(y_test, svm_prediction))\n",
        "calculate_additional_metrics('SVM', y_test, svm_prediction)"
      ],
      "metadata": {
        "colab": {
          "base_uri": "https://localhost:8080/"
        },
        "id": "KAao9Y2_n6Qk",
        "outputId": "3e9ee41c-9e18-4992-cdbb-e8a0f1ca8974"
      },
      "execution_count": null,
      "outputs": [
        {
          "output_type": "stream",
          "name": "stdout",
          "text": [
            "SVM's Accuracy: 0.7\n",
            "SVM - Additional Metrics:\n",
            "Precision: 0.5226666666666666\n",
            "Recall: 0.7\n",
            "F1-Score: 0.5932624113475177\n",
            "\n"
          ]
        },
        {
          "output_type": "stream",
          "name": "stderr",
          "text": [
            "/usr/local/lib/python3.11/dist-packages/sklearn/metrics/_classification.py:1565: UndefinedMetricWarning: Precision is ill-defined and being set to 0.0 in labels with no predicted samples. Use `zero_division` parameter to control this behavior.\n",
            "  _warn_prf(average, modifier, f\"{metric.capitalize()} is\", len(result))\n"
          ]
        }
      ]
    },
    {
      "cell_type": "code",
      "source": [
        "#Training Naive Bayes Model\n",
        "from sklearn.naive_bayes import GaussianNB\n",
        "naivebayes = GaussianNB()\n",
        "naivebayes.fit(x_train, y_train)\n",
        "nb_prediction= naivebayes.predict(x_test)\n",
        "print(\"Naive Bayes' Accuracy:\", metrics.accuracy_score(y_test, nb_prediction))\n",
        "calculate_additional_metrics('Naive Bayes', y_test, nb_prediction)"
      ],
      "metadata": {
        "colab": {
          "base_uri": "https://localhost:8080/"
        },
        "id": "B2jLDeGrn9cT",
        "outputId": "b7f1e72a-6f7e-445b-c829-eab6f7e37a21"
      },
      "execution_count": null,
      "outputs": [
        {
          "output_type": "stream",
          "name": "stdout",
          "text": [
            "Naive Bayes' Accuracy: 0.85\n",
            "Naive Bayes - Additional Metrics:\n",
            "Precision: 0.8854960317460318\n",
            "Recall: 0.85\n",
            "F1-Score: 0.8485663320311815\n",
            "\n"
          ]
        }
      ]
    },
    {
      "cell_type": "code",
      "source": [
        "#New patient data\n",
        "new_patient_data=pd.DataFrame({'Age':[30],'Sex':'F','BP':['NORMAL'],'Cholesterol':['HIGH'],'Na_to_K':[15.0]})"
      ],
      "metadata": {
        "id": "ZYMs894IoD1s"
      },
      "execution_count": null,
      "outputs": []
    },
    {
      "cell_type": "code",
      "source": [
        "new_patient_data['Sex'] = sex_encoding.fit_transform(new_patient_data['Sex'])\n",
        "new_patient_data['BP'] = BP_encoding.fit_transform(new_patient_data['BP'])\n",
        "new_patient_data['Cholesterol'] = Cholesterol_encoding.fit_transform(new_patient_data['Cholesterol'])\n",
        "print(\"New Patient Data:\")\n",
        "print(new_patient_data)"
      ],
      "metadata": {
        "colab": {
          "base_uri": "https://localhost:8080/"
        },
        "id": "z3NUK5QFoGhc",
        "outputId": "bb23d8fa-63ae-4955-e480-63bb48eb3a08"
      },
      "execution_count": null,
      "outputs": [
        {
          "output_type": "stream",
          "name": "stdout",
          "text": [
            "New Patient Data:\n",
            "   Age  Sex  BP  Cholesterol  Na_to_K\n",
            "0   30    0   0            0     15.0\n"
          ]
        }
      ]
    },
    {
      "cell_type": "code",
      "source": [
        "#Use the trained model for predict for the new patient\n",
        "logreg_prediction = logireg.predict(new_patient_data)\n",
        "dt_prediction=dectree.predict(new_patient_data)\n",
        "rf_prediction = ranforest.predict(new_patient_data)\n",
        "knn_prediction = knn.predict(new_patient_data)\n",
        "svm_prediction = svm.predict(new_patient_data)\n",
        "nb_prediction = naivebayes.predict(new_patient_data)\n",
        "print(\"\\nPredictions for the New Patient:\")\n",
        "print(\"Logistic Regression Prediction:\", logreg_prediction[0])\n",
        "print(\"Decision Tree Prediction:\",dt_prediction[0])\n",
        "print(\"Random Forest Prediction:\", rf_prediction[0])\n",
        "print(\"KNN Prediction:\", knn_prediction[0])\n",
        "print(\"SVM Prediction:\", svm_prediction[0])\n",
        "print(\"Naive Bayes Prediction:\", nb_prediction[0])\n"
      ],
      "metadata": {
        "colab": {
          "base_uri": "https://localhost:8080/"
        },
        "id": "sAsdI4FqoI-7",
        "outputId": "af0a73df-260b-45a8-88da-d5f0d5958522"
      },
      "execution_count": null,
      "outputs": [
        {
          "output_type": "stream",
          "name": "stdout",
          "text": [
            "\n",
            "Predictions for the New Patient:\n",
            "Logistic Regression Prediction: drugA\n",
            "Decision Tree Prediction: drugY\n",
            "Random Forest Prediction: drugY\n",
            "KNN Prediction: drugC\n",
            "SVM Prediction: drugY\n",
            "Naive Bayes Prediction: drugA\n"
          ]
        }
      ]
    }
  ]
}